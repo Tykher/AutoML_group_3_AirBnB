{
 "cells": [
  {
   "cell_type": "markdown",
   "metadata": {
    "colab_type": "text",
    "id": "view-in-github"
   },
   "source": [
    "<a href=\"https://colab.research.google.com/github/Tykher/AutoML_group_3_AirBnB/blob/main/airbnb_project.ipynb\" target=\"_parent\"><img src=\"https://colab.research.google.com/assets/colab-badge.svg\" alt=\"Open In Colab\"/></a>"
   ]
  },
  {
   "cell_type": "markdown",
   "metadata": {
    "id": "EMj8xKmjqQLP"
   },
   "source": [
    "#Predicting the price for airnbnb\n"
   ]
  },
  {
   "cell_type": "markdown",
   "metadata": {
    "id": "ppQYG3jAqrld"
   },
   "source": [
    "## Merging Datasets"
   ]
  },
  {
   "cell_type": "code",
   "execution_count": 2,
   "metadata": {
    "id": "m3MQt9fgqyNc"
   },
   "outputs": [],
   "source": [
    "import pandas as pd\n",
    "\n",
    "# List of cities\n",
    "cities = ['amsterdam', 'athens', 'barcelona', 'berlin', 'budapest', 'lisbon', 'london', 'paris', 'rome', 'vienna']\n",
    "\n",
    "# Read and concatenate the DataFrames for weekdays and weekends\n",
    "weekday_dfs = []\n",
    "weekend_dfs = []\n",
    "\n",
    "for city in cities:\n",
    "    weekday_df = pd.read_csv(f'{city}_weekdays.csv')\n",
    "    weekend_df = pd.read_csv(f'{city}_weekends.csv')\n",
    "\n",
    "    weekday_df['city'] = city\n",
    "    weekend_df['city'] = city\n",
    "\n",
    "    weekday_dfs.append(weekday_df)\n",
    "    weekend_dfs.append(weekend_df)\n",
    "\n",
    "# Concatenate the DataFrames\n",
    "weekday_data = pd.concat(weekday_dfs, ignore_index=True)\n",
    "weekend_data = pd.concat(weekend_dfs, ignore_index=True)\n",
    "\n",
    "# Concatenate weekday and weekend data\n",
    "Complete_Data = pd.concat([weekday_data, weekend_data], axis=0)\n",
    "# save the dataset into new file\n",
    "csv_file_path = 'airbnb_full_data.csv'\n",
    "df = Complete_Data\n",
    "df.to_csv(csv_file_path, index=False)"
   ]
  },
  {
   "cell_type": "markdown",
   "metadata": {
    "id": "liVSai6Zuo-F"
   },
   "source": [
    "## Cleaning Dataset\n"
   ]
  },
  {
   "cell_type": "code",
   "execution_count": 3,
   "metadata": {
    "colab": {
     "base_uri": "https://localhost:8080/",
     "height": 261
    },
    "id": "EPL9raZ8usR1",
    "outputId": "4e08f168-8347-4236-bfc0-90cd34d47f5b"
   },
   "outputs": [
    {
     "name": "stdout",
     "output_type": "stream",
     "text": [
      "\n",
      "City to number mapping:\n",
      "amsterdam: 0\n",
      "athens: 1\n",
      "barcelona: 2\n",
      "berlin: 3\n",
      "budapest: 4\n",
      "lisbon: 5\n",
      "london: 6\n",
      "paris: 7\n",
      "rome: 8\n",
      "vienna: 9\n"
     ]
    },
    {
     "data": {
      "text/plain": [
       "'\\nCity to number mapping:\\namsterdam: 0\\nathens: 1\\nbarcelona: 2\\nberlin: 3\\nbudapest: 4\\nlisbon: 5\\nlondon: 6\\nparis: 7\\nrome: 8\\nvienna: 9\\n'"
      ]
     },
     "execution_count": 3,
     "metadata": {},
     "output_type": "execute_result"
    }
   ],
   "source": [
    "df = Complete_Data\n",
    "superhost = df['host_is_superhost'].astype('category').cat.codes\n",
    "df = df.drop('host_is_superhost', axis=1)\n",
    "df['host_is_superhost'] = superhost\n",
    "room_type = df['room_type'].astype('category').cat.codes\n",
    "df = df.drop('room_type', axis=1)\n",
    "'''\n",
    "Entire home/apt - 0\n",
    "Private room - 1\n",
    "Shared room - 2\n",
    "'''\n",
    "df['room_type'] = room_type\n",
    "df = df.drop('room_shared', axis=1)\n",
    "df = df.drop('room_private', axis=1)\n",
    "df = df.drop('lng', axis=1)\n",
    "df = df.drop('lat', axis=1)\n",
    "df = df.drop('attr_index', axis=1)\n",
    "df = df.drop('rest_index', axis=1)\n",
    "df = df.drop('rest_index_norm', axis=1)\n",
    "df = df.drop('attr_index_norm', axis=1)\n",
    "df = df.drop('Unnamed: 0', axis=1)\n",
    "df = df.dropna()\n",
    "\n",
    "numerical_columns = df.select_dtypes(include=['int8', 'int64', 'float64']).columns\n",
    "df[numerical_columns] = df[numerical_columns].astype('float64')\n",
    "\n",
    "columns_to_check = ['realSum']\n",
    "\n",
    "# For each column, calculate Q1 (25th percentile) and Q3 (75th percentile) and the IQR\n",
    "for column in columns_to_check:\n",
    "    Q1 = df[column].quantile(0.25)\n",
    "    Q3 = df[column].quantile(0.75)\n",
    "    IQR = Q3 - Q1\n",
    "\n",
    "    # Define limits for outliers\n",
    "    lower_limit = Q1 - 1.5 * IQR\n",
    "    upper_limit = Q3 + 1.5 * IQR\n",
    "\n",
    "    # Filter out outliers\n",
    "    df = df[(df[column] >= lower_limit) & (df[column] <= upper_limit)]\n",
    "city_to_number = {city: i for i, city in enumerate(df['city'].unique())}\n",
    "df['city'] = df['city'].map(city_to_number)\n",
    "print(\"\\nCity to number mapping:\")\n",
    "for city, number in city_to_number.items():\n",
    "    print(f\"{city}: {number}\")\n",
    "\n",
    "'''\n",
    "City to number mapping:\n",
    "amsterdam: 0\n",
    "athens: 1\n",
    "barcelona: 2\n",
    "berlin: 3\n",
    "budapest: 4\n",
    "lisbon: 5\n",
    "london: 6\n",
    "paris: 7\n",
    "rome: 8\n",
    "vienna: 9\n",
    "'''"
   ]
  },
  {
   "cell_type": "code",
   "execution_count": 4,
   "metadata": {
    "id": "_VvzT-ZC1ZOI"
   },
   "outputs": [],
   "source": [
    "# save the dataset into new file\n",
    "csv_file_path = 'airbnb_cleaned_data.csv'\n",
    "df.to_csv(csv_file_path, index=False)"
   ]
  },
  {
   "cell_type": "code",
   "execution_count": 5,
   "metadata": {
    "colab": {
     "base_uri": "https://localhost:8080/",
     "height": 443
    },
    "id": "UPXABjct3Sfo",
    "outputId": "c599f9c5-42e4-4430-d319-c7b514e5374f"
   },
   "outputs": [
    {
     "data": {
      "text/html": [
       "<div>\n",
       "<style scoped>\n",
       "    .dataframe tbody tr th:only-of-type {\n",
       "        vertical-align: middle;\n",
       "    }\n",
       "\n",
       "    .dataframe tbody tr th {\n",
       "        vertical-align: top;\n",
       "    }\n",
       "\n",
       "    .dataframe thead th {\n",
       "        text-align: right;\n",
       "    }\n",
       "</style>\n",
       "<table border=\"1\" class=\"dataframe\">\n",
       "  <thead>\n",
       "    <tr style=\"text-align: right;\">\n",
       "      <th></th>\n",
       "      <th>realSum</th>\n",
       "      <th>person_capacity</th>\n",
       "      <th>multi</th>\n",
       "      <th>biz</th>\n",
       "      <th>cleanliness_rating</th>\n",
       "      <th>guest_satisfaction_overall</th>\n",
       "      <th>bedrooms</th>\n",
       "      <th>dist</th>\n",
       "      <th>metro_dist</th>\n",
       "      <th>city</th>\n",
       "      <th>host_is_superhost</th>\n",
       "      <th>room_type</th>\n",
       "    </tr>\n",
       "  </thead>\n",
       "  <tbody>\n",
       "    <tr>\n",
       "      <th>0</th>\n",
       "      <td>194.033698</td>\n",
       "      <td>2.0</td>\n",
       "      <td>1.0</td>\n",
       "      <td>0.0</td>\n",
       "      <td>10.0</td>\n",
       "      <td>93.0</td>\n",
       "      <td>1.0</td>\n",
       "      <td>5.022964</td>\n",
       "      <td>2.539380</td>\n",
       "      <td>0</td>\n",
       "      <td>0.0</td>\n",
       "      <td>1.0</td>\n",
       "    </tr>\n",
       "    <tr>\n",
       "      <th>1</th>\n",
       "      <td>344.245776</td>\n",
       "      <td>4.0</td>\n",
       "      <td>0.0</td>\n",
       "      <td>0.0</td>\n",
       "      <td>8.0</td>\n",
       "      <td>85.0</td>\n",
       "      <td>1.0</td>\n",
       "      <td>0.488389</td>\n",
       "      <td>0.239404</td>\n",
       "      <td>0</td>\n",
       "      <td>0.0</td>\n",
       "      <td>1.0</td>\n",
       "    </tr>\n",
       "    <tr>\n",
       "      <th>2</th>\n",
       "      <td>264.101422</td>\n",
       "      <td>2.0</td>\n",
       "      <td>0.0</td>\n",
       "      <td>1.0</td>\n",
       "      <td>9.0</td>\n",
       "      <td>87.0</td>\n",
       "      <td>1.0</td>\n",
       "      <td>5.748312</td>\n",
       "      <td>3.651621</td>\n",
       "      <td>0</td>\n",
       "      <td>0.0</td>\n",
       "      <td>1.0</td>\n",
       "    </tr>\n",
       "    <tr>\n",
       "      <th>3</th>\n",
       "      <td>433.529398</td>\n",
       "      <td>4.0</td>\n",
       "      <td>0.0</td>\n",
       "      <td>1.0</td>\n",
       "      <td>9.0</td>\n",
       "      <td>90.0</td>\n",
       "      <td>2.0</td>\n",
       "      <td>0.384862</td>\n",
       "      <td>0.439876</td>\n",
       "      <td>0</td>\n",
       "      <td>0.0</td>\n",
       "      <td>1.0</td>\n",
       "    </tr>\n",
       "    <tr>\n",
       "      <th>4</th>\n",
       "      <td>485.552926</td>\n",
       "      <td>2.0</td>\n",
       "      <td>0.0</td>\n",
       "      <td>0.0</td>\n",
       "      <td>10.0</td>\n",
       "      <td>98.0</td>\n",
       "      <td>1.0</td>\n",
       "      <td>0.544738</td>\n",
       "      <td>0.318693</td>\n",
       "      <td>0</td>\n",
       "      <td>1.0</td>\n",
       "      <td>1.0</td>\n",
       "    </tr>\n",
       "    <tr>\n",
       "      <th>...</th>\n",
       "      <td>...</td>\n",
       "      <td>...</td>\n",
       "      <td>...</td>\n",
       "      <td>...</td>\n",
       "      <td>...</td>\n",
       "      <td>...</td>\n",
       "      <td>...</td>\n",
       "      <td>...</td>\n",
       "      <td>...</td>\n",
       "      <td>...</td>\n",
       "      <td>...</td>\n",
       "      <td>...</td>\n",
       "    </tr>\n",
       "    <tr>\n",
       "      <th>48040</th>\n",
       "      <td>463.501858</td>\n",
       "      <td>5.0</td>\n",
       "      <td>1.0</td>\n",
       "      <td>0.0</td>\n",
       "      <td>10.0</td>\n",
       "      <td>90.0</td>\n",
       "      <td>2.0</td>\n",
       "      <td>1.021878</td>\n",
       "      <td>0.285141</td>\n",
       "      <td>9</td>\n",
       "      <td>0.0</td>\n",
       "      <td>0.0</td>\n",
       "    </tr>\n",
       "    <tr>\n",
       "      <th>48041</th>\n",
       "      <td>115.933899</td>\n",
       "      <td>4.0</td>\n",
       "      <td>1.0</td>\n",
       "      <td>0.0</td>\n",
       "      <td>9.0</td>\n",
       "      <td>94.0</td>\n",
       "      <td>1.0</td>\n",
       "      <td>3.041932</td>\n",
       "      <td>0.308192</td>\n",
       "      <td>9</td>\n",
       "      <td>0.0</td>\n",
       "      <td>1.0</td>\n",
       "    </tr>\n",
       "    <tr>\n",
       "      <th>48042</th>\n",
       "      <td>304.793960</td>\n",
       "      <td>2.0</td>\n",
       "      <td>0.0</td>\n",
       "      <td>0.0</td>\n",
       "      <td>8.0</td>\n",
       "      <td>86.0</td>\n",
       "      <td>1.0</td>\n",
       "      <td>0.810205</td>\n",
       "      <td>0.100839</td>\n",
       "      <td>9</td>\n",
       "      <td>0.0</td>\n",
       "      <td>0.0</td>\n",
       "    </tr>\n",
       "    <tr>\n",
       "      <th>48043</th>\n",
       "      <td>301.054157</td>\n",
       "      <td>2.0</td>\n",
       "      <td>0.0</td>\n",
       "      <td>0.0</td>\n",
       "      <td>10.0</td>\n",
       "      <td>87.0</td>\n",
       "      <td>1.0</td>\n",
       "      <td>3.044100</td>\n",
       "      <td>0.287435</td>\n",
       "      <td>9</td>\n",
       "      <td>0.0</td>\n",
       "      <td>1.0</td>\n",
       "    </tr>\n",
       "    <tr>\n",
       "      <th>48044</th>\n",
       "      <td>133.230489</td>\n",
       "      <td>4.0</td>\n",
       "      <td>1.0</td>\n",
       "      <td>0.0</td>\n",
       "      <td>10.0</td>\n",
       "      <td>93.0</td>\n",
       "      <td>1.0</td>\n",
       "      <td>1.263932</td>\n",
       "      <td>0.480903</td>\n",
       "      <td>9</td>\n",
       "      <td>1.0</td>\n",
       "      <td>1.0</td>\n",
       "    </tr>\n",
       "  </tbody>\n",
       "</table>\n",
       "<p>48045 rows × 12 columns</p>\n",
       "</div>"
      ],
      "text/plain": [
       "          realSum  person_capacity  multi  biz  cleanliness_rating  \\\n",
       "0      194.033698              2.0    1.0  0.0                10.0   \n",
       "1      344.245776              4.0    0.0  0.0                 8.0   \n",
       "2      264.101422              2.0    0.0  1.0                 9.0   \n",
       "3      433.529398              4.0    0.0  1.0                 9.0   \n",
       "4      485.552926              2.0    0.0  0.0                10.0   \n",
       "...           ...              ...    ...  ...                 ...   \n",
       "48040  463.501858              5.0    1.0  0.0                10.0   \n",
       "48041  115.933899              4.0    1.0  0.0                 9.0   \n",
       "48042  304.793960              2.0    0.0  0.0                 8.0   \n",
       "48043  301.054157              2.0    0.0  0.0                10.0   \n",
       "48044  133.230489              4.0    1.0  0.0                10.0   \n",
       "\n",
       "       guest_satisfaction_overall  bedrooms      dist  metro_dist  city  \\\n",
       "0                            93.0       1.0  5.022964    2.539380     0   \n",
       "1                            85.0       1.0  0.488389    0.239404     0   \n",
       "2                            87.0       1.0  5.748312    3.651621     0   \n",
       "3                            90.0       2.0  0.384862    0.439876     0   \n",
       "4                            98.0       1.0  0.544738    0.318693     0   \n",
       "...                           ...       ...       ...         ...   ...   \n",
       "48040                        90.0       2.0  1.021878    0.285141     9   \n",
       "48041                        94.0       1.0  3.041932    0.308192     9   \n",
       "48042                        86.0       1.0  0.810205    0.100839     9   \n",
       "48043                        87.0       1.0  3.044100    0.287435     9   \n",
       "48044                        93.0       1.0  1.263932    0.480903     9   \n",
       "\n",
       "       host_is_superhost  room_type  \n",
       "0                    0.0        1.0  \n",
       "1                    0.0        1.0  \n",
       "2                    0.0        1.0  \n",
       "3                    0.0        1.0  \n",
       "4                    1.0        1.0  \n",
       "...                  ...        ...  \n",
       "48040                0.0        0.0  \n",
       "48041                0.0        1.0  \n",
       "48042                0.0        0.0  \n",
       "48043                0.0        1.0  \n",
       "48044                1.0        1.0  \n",
       "\n",
       "[48045 rows x 12 columns]"
      ]
     },
     "execution_count": 5,
     "metadata": {},
     "output_type": "execute_result"
    }
   ],
   "source": [
    "pd.read_csv(csv_file_path)"
   ]
  },
  {
   "cell_type": "markdown",
   "metadata": {
    "id": "Mb0g13PYW8qb"
   },
   "source": [
    "##Apply ML model\n"
   ]
  },
  {
   "cell_type": "code",
   "execution_count": 6,
   "metadata": {
    "id": "ryIeuoUcXaU_"
   },
   "outputs": [],
   "source": [
    "from sklearn.ensemble import RandomForestRegressor\n",
    "from sklearn.tree import DecisionTreeRegressor\n",
    "from sklearn.linear_model import LinearRegression\n",
    "from sklearn import svm\n",
    "from sklearn.model_selection import train_test_split\n",
    "from sklearn.metrics import mean_squared_log_error, mean_absolute_error\n",
    "import numpy as np\n",
    "from sklearn.model_selection import RandomizedSearchCV\n",
    "from sklearn.datasets import make_hastie_10_2\n",
    "from sklearn.ensemble import GradientBoostingRegressor\n",
    "import matplotlib.pyplot as plt\n",
    "from sklearn.metrics import r2_score"
   ]
  },
  {
   "cell_type": "code",
   "execution_count": 7,
   "metadata": {
    "colab": {
     "base_uri": "https://localhost:8080/"
    },
    "id": "udU36LgeYNSH",
    "outputId": "9c60e8b8-468f-4339-ac55-ed8230b59d78"
   },
   "outputs": [
    {
     "data": {
      "text/plain": [
       "((38436, 11), (38436,), (9609, 11), (9609,))"
      ]
     },
     "execution_count": 7,
     "metadata": {},
     "output_type": "execute_result"
    }
   ],
   "source": [
    "X = df.drop('realSum', axis=1)\n",
    "y = df['realSum']\n",
    "X_train, X_test, y_train, y_test = train_test_split(X, y, test_size=0.2, random_state=42)\n",
    "\n",
    "X_train.shape, y_train.shape, X_test.shape, y_test.shape"
   ]
  },
  {
   "cell_type": "markdown",
   "metadata": {
    "id": "FT9kxkFv8z6k"
   },
   "source": [
    "###Choosing the model"
   ]
  },
  {
   "cell_type": "code",
   "execution_count": 8,
   "metadata": {
    "id": "d6ZiZJJz8yoL"
   },
   "outputs": [],
   "source": [
    "# put models in dictionary\n",
    "models = {\"Linear Regression\": LinearRegression(),\n",
    "          \"Random Forest Regression\": RandomForestRegressor(),\n",
    "          \"Decision Tree Regression\": DecisionTreeRegressor(),\n",
    "          \"SVR\": svm.SVR(),\n",
    "          \"reg\": GradientBoostingRegressor()}"
   ]
  },
  {
   "cell_type": "code",
   "execution_count": 9,
   "metadata": {
    "id": "Xv2TrF3Wwcei"
   },
   "outputs": [],
   "source": [
    "# Create function to evaluate our model\n",
    "\n",
    "def rmsle(y_test, y_preds):\n",
    "    return np.sqrt(mean_squared_log_error(y_test, y_preds))\n",
    "\n",
    "\n",
    "def show_scores(model):\n",
    "    preds = model.predict(X_test)\n",
    "    scores = {\"MAE\": mean_absolute_error(y_test, preds),\n",
    "              \"RMSLE\": rmsle(y_test, preds),\n",
    "              \"R^2\": r2_score(y_test, preds)}\n",
    "    return scores"
   ]
  },
  {
   "cell_type": "code",
   "execution_count": 10,
   "metadata": {
    "id": "_DjFnXXkFmO_"
   },
   "outputs": [],
   "source": [
    "def fit_models(models, X_train, X_test, y_train, y_test):\n",
    "  \"\"\"\n",
    "  Fits and evaluates given machine learning models.\n",
    "  models : a dict of different Scikit-Learn machine learning models\n",
    "  X_train : training data\n",
    "  X_test : testing data\n",
    "  y_train : labels assosciated with training data\n",
    "  y_test : labels assosciated with test data\n",
    "  \"\"\"\n",
    "  np.random.seed(42)\n",
    "  trained_models={}\n",
    "  for name, model in models.items():\n",
    "    trained_models[name] = model.fit(X_train, y_train)\n",
    "  return trained_models"
   ]
  },
  {
   "cell_type": "code",
   "execution_count": 11,
   "metadata": {
    "colab": {
     "base_uri": "https://localhost:8080/"
    },
    "id": "Ag5D_Qux-_qz",
    "outputId": "08df64e8-b75b-4efd-f02f-d5cfc717cfbe"
   },
   "outputs": [
    {
     "name": "stdout",
     "output_type": "stream",
     "text": [
      "Linear Regression, : {'MAE': 80.83057099619927, 'RMSLE': 0.45100160248606286, 'R^2': 0.13392645792681435}\n",
      "Random Forest Regression, : {'MAE': 33.618974818825194, 'RMSLE': 0.2111612100826603, 'R^2': 0.7881896425418302}\n",
      "Decision Tree Regression, : {'MAE': 33.19074163466524, 'RMSLE': 0.2516250729471165, 'R^2': 0.68219639710466}\n",
      "SVR, : {'MAE': 83.56309698595167, 'RMSLE': 0.46279967719936654, 'R^2': -0.03737689860423421}\n",
      "reg, : {'MAE': 52.61043081122584, 'RMSLE': 0.3000100711136408, 'R^2': 0.5938203642576281}\n"
     ]
    }
   ],
   "source": [
    "trained_models = fit_models(models, X_train, X_test, y_train, y_test)\n",
    "\n",
    "for name, model in trained_models.items():\n",
    "  print(f\"{name}, : {show_scores(model)}\")"
   ]
  },
  {
   "cell_type": "markdown",
   "metadata": {
    "id": "ez78H2qZntxj"
   },
   "source": [
    "From the observation we can see that Random Forest Regression and Decision Tree Regression performs better than other models. From this two we will choose Random Forest Reggressor since it performs a bit better then Decision Tree. But let's try tune model and also look at the graphics"
   ]
  },
  {
   "cell_type": "code",
   "execution_count": 12,
   "metadata": {
    "id": "8H8rz7Z8858f"
   },
   "outputs": [],
   "source": [
    "prediction_models={}\n",
    "for name, model in trained_models.items():\n",
    "  prediction_models[name] = model.predict(X_test)"
   ]
  },
  {
   "cell_type": "code",
   "execution_count": 13,
   "metadata": {
    "colab": {
     "base_uri": "https://localhost:8080/",
     "height": 1000
    },
    "id": "MENxOEaC9Vlu",
    "outputId": "d7c46e45-e9c1-4172-c28a-664051a484a6"
   },
   "outputs": [
    {
     "data": {
      "image/png": "[encoded data removed]",
      "text/plain": [
       "<Figure size 432x288 with 1 Axes>"
      ]
     },
     "metadata": {
      "needs_background": "light"
     },
     "output_type": "display_data"
    },
    {
     "data": {
      "image/png": "[encoded data removed]",
      "text/plain": [
       "<Figure size 432x288 with 1 Axes>"
      ]
     },
     "metadata": {
      "needs_background": "light"
     },
     "output_type": "display_data"
    },
    {
     "data": {
      "image/png": "[encoded data removed]",
      "text/plain": [
       "<Figure size 432x288 with 1 Axes>"
      ]
     },
     "metadata": {
      "needs_background": "light"
     },
     "output_type": "display_data"
    },
    {
     "data": {
      "image/png": "[encoded data removed]",
      "text/plain": [
       "<Figure size 432x288 with 1 Axes>"
      ]
     },
     "metadata": {
      "needs_background": "light"
     },
     "output_type": "display_data"
    },
    {
     "data": {
      "image/png": "[encoded data removed]",
      "text/plain": [
       "<Figure size 432x288 with 1 Axes>"
      ]
     },
     "metadata": {
      "needs_background": "light"
     },
     "output_type": "display_data"
    }
   ],
   "source": [
    "for name, model in prediction_models.items():\n",
    "  plt.figure()\n",
    "  plt.title(name)\n",
    "  plt.scatter(y_test, model)"
   ]
  },
  {
   "cell_type": "markdown",
   "metadata": {
    "id": "JDID9HI8xrqb"
   },
   "source": [
    "# Hyperparameter tuning with RandomizedSearchCV\n"
   ]
  },
  {
   "cell_type": "markdown",
   "metadata": {
    "id": "fh-VRiifI8SU"
   },
   "source": [
    "##Tuning the Random  Forest"
   ]
  },
  {
   "cell_type": "code",
   "execution_count": null,
   "metadata": {
    "colab": {
     "background_save": true
    },
    "id": "MvAcHv3mNdwA"
   },
   "outputs": [],
   "source": [
    "# Do not run it!\n",
    "# It's not useful and takes more than 2 hours\n",
    "\n",
    "rf_grid = {'bootstrap': [True, False],\n",
    " 'max_depth': [10, 20, 30, 40, 50, 60, 70, 80, 90, 100, None],\n",
    " 'max_features': ['auto', 'sqrt'],\n",
    " 'min_samples_leaf': [1, 2, 4],\n",
    " 'min_samples_split': [2, 5, 10],\n",
    " 'n_estimators': [200, 400, 600, 800, 1000, 1200, 1400, 1600, 1800, 2000]}\n",
    "\n",
    "rs_model = RandomizedSearchCV(RandomForestRegressor(),param_distributions=rf_grid,n_iter=20,cv=5,verbose=True)\n",
    "\n",
    "rs_model.fit(X_train, y_train)\n",
    "rs_model.best_params_"
   ]
  },
  {
   "cell_type": "markdown",
   "metadata": {
    "id": "u4SYX9Eiapnc"
   },
   "source": [
    "Best parameters are:\n",
    "\n",
    "{'n_estimators': 1400,\n",
    " 'min_samples_split': 2,\n",
    " 'min_samples_leaf': 1,\n",
    " 'max_features': 'sqrt',\n",
    " 'max_depth': 50,\n",
    " 'bootstrap': False}"
   ]
  },
  {
   "cell_type": "markdown",
   "metadata": {
    "id": "rK5CUZ4okt2b"
   },
   "source": [
    "Let's check the model"
   ]
  },
  {
   "cell_type": "code",
   "execution_count": 14,
   "metadata": {
    "id": "l2zA8TFErzk4"
   },
   "outputs": [],
   "source": [
    "# the best model will be\n",
    "rf_hyper_model = RandomForestRegressor(n_estimators=1400, min_samples_split=2, min_samples_leaf=1, max_features='sqrt', max_depth=50, bootstrap=False)\n",
    "rf_hyper_model.fit(X_train,y_train)\n",
    "rf_tuned_pred=rf_hyper_model.predict(X_test)"
   ]
  },
  {
   "cell_type": "code",
   "execution_count": 15,
   "metadata": {
    "colab": {
     "base_uri": "https://localhost:8080/"
    },
    "id": "wZJkPnPhlx-J",
    "outputId": "1eff8c41-98f0-48a9-d952-6309cc05b5d7"
   },
   "outputs": [
    {
     "name": "stdout",
     "output_type": "stream",
     "text": [
      "{'MAE': 26.85418899174563, 'RMSLE': 0.20001001641987184, 'R^2': 0.8106993239550271}\n",
      "{'MAE': 33.618974818825194, 'RMSLE': 0.2111612100826603, 'R^2': 0.7881896425418302}\n"
     ]
    },
    {
     "data": {
      "text/plain": [
       "(None, None)"
      ]
     },
     "execution_count": 15,
     "metadata": {},
     "output_type": "execute_result"
    }
   ],
   "source": [
    "# let's compare with previous model\n",
    "print(show_scores(rf_hyper_model)), print(show_scores(trained_models[\"Random Forest Regression\"]))"
   ]
  },
  {
   "cell_type": "code",
   "execution_count": 16,
   "metadata": {},
   "outputs": [],
   "source": [
    "from joblib import dump, load"
   ]
  },
  {
   "cell_type": "code",
   "execution_count": 17,
   "metadata": {},
   "outputs": [
    {
     "data": {
      "text/plain": [
       "['rf_hyper_model.joblib']"
      ]
     },
     "execution_count": 17,
     "metadata": {},
     "output_type": "execute_result"
    }
   ],
   "source": [
    "model_filename = 'rf_hyper_model.joblib'\n",
    "dump(rf_hyper_model, model_filename)"
   ]
  },
  {
   "cell_type": "code",
   "execution_count": 1,
   "metadata": {},
   "outputs": [
    {
     "name": "stdout",
     "output_type": "stream",
     "text": [
      "1.4.0\n"
     ]
    }
   ],
   "source": [
    "import sklearn\n",
    "print(sklearn.__version__)"
   ]
  },
  {
   "cell_type": "code",
   "execution_count": null,
   "metadata": {},
   "outputs": [],
   "source": []
  }
 ],
 "metadata": {
  "colab": {
   "include_colab_link": true,
   "provenance": []
  },
  "kernelspec": {
   "display_name": "Python 3 (ipykernel)",
   "language": "python",
   "name": "python3"
  },
  "language_info": {
   "codemirror_mode": {
    "name": "ipython",
    "version": 3
   },
   "file_extension": ".py",
   "mimetype": "text/x-python",
   "name": "python",
   "nbconvert_exporter": "python",
   "pygments_lexer": "ipython3",
   "version": "3.9.12"
  }
 },
 "nbformat": 4,
 "nbformat_minor": 1
}
